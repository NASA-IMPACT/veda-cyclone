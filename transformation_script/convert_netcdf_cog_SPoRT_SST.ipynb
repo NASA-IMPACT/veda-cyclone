{
 "cells": [
  {
   "cell_type": "code",
   "execution_count": 1,
   "id": "b6b56909-fac1-4ec7-85a6-cb2a43664bd8",
   "metadata": {},
   "outputs": [],
   "source": [
    "#Import necessary packages:\n",
    "import rasterio as rio \n",
    "import xarray as xr\n",
    "import rio_cogeo.cogeo\n",
    "import matplotlib.pyplot as plt\n",
    "from rasterio.plot import show"
   ]
  },
  {
   "cell_type": "code",
   "execution_count": 2,
   "id": "c03d2291-dc37-4460-a8ee-ebbd1f79d08c",
   "metadata": {},
   "outputs": [],
   "source": [
    "#Inspect source NetCDF files:\n",
    "file = 'raw-data/SPoRT_SST/SPoRT_SST_test_data.nc'\n",
    "\n",
    "#Open the netcdf file:\n",
    "xds = xr.open_dataset(file)"
   ]
  },
  {
   "cell_type": "code",
   "execution_count": null,
   "id": "e2a36e39-fb63-4cc1-9bbd-bd5368a87dd5",
   "metadata": {},
   "outputs": [],
   "source": [
    "data_array = xds['SST'].values[::-1,:]\n",
    "lat_array = xds.lat.values\n",
    "lon_array = xds.lon.values\n",
    "data_array.shape, lat_array.shape, lon_array.shape\n",
    "\n",
    "# Create the DataArray\n",
    "data_xarray = xr.DataArray(\n",
    "    data_array,\n",
    "    coords={\n",
    "        'lat': lat_array,\n",
    "        'lon': lon_array\n",
    "    },\n",
    "    dims=[ 'lat', 'lon']\n",
    ")\n",
    "\n",
    "data_xarray.rio.set_spatial_dims(\"lon\", \"lat\", inplace=True)\n",
    "data_xarray.rio.write_crs(\"epsg:4326\", inplace=True)"
   ]
  },
  {
   "cell_type": "code",
   "execution_count": 8,
   "id": "3bc11329-6d58-4dc0-9fca-7ab54524fe23",
   "metadata": {},
   "outputs": [],
   "source": [
    "cog_filename = \"test_cog_SPoRT.tif\"\n",
    "\n",
    "# Write the COG\n",
    "data_xarray.rio.to_raster(\n",
    "    cog_filename,\n",
    "    driver=\"COG\",\n",
    "    compress=\"DEFLATE\",\n",
    "    overview_level=4,\n",
    "    overview_resampling=\"average\",\n",
    "    nodata=-9999\n",
    ")"
   ]
  },
  {
   "cell_type": "code",
   "execution_count": 9,
   "id": "7d15a8ad-5bcc-4fdb-a955-b2f0896ea04a",
   "metadata": {},
   "outputs": [
    {
     "name": "stdout",
     "output_type": "stream",
     "text": [
      "COG validation: (True, [], [])\n"
     ]
    }
   ],
   "source": [
    "# Validate the COG file\n",
    "cog_valid = rio_cogeo.cogeo.cog_validate(cog_filename)\n",
    "print(f\"COG validation: {cog_valid}\")"
   ]
  }
 ],
 "metadata": {
  "kernelspec": {
   "display_name": "Python 3 (ipykernel)",
   "language": "python",
   "name": "python3"
  },
  "language_info": {
   "codemirror_mode": {
    "name": "ipython",
    "version": 3
   },
   "file_extension": ".py",
   "mimetype": "text/x-python",
   "name": "python",
   "nbconvert_exporter": "python",
   "pygments_lexer": "ipython3",
   "version": "3.12.5"
  }
 },
 "nbformat": 4,
 "nbformat_minor": 5
}
