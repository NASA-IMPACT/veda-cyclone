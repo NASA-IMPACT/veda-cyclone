{
 "cells": [
  {
   "cell_type": "code",
   "execution_count": 1,
   "id": "8584e1d6-e1fd-4191-90f6-bb2c9b26b9cd",
   "metadata": {},
   "outputs": [],
   "source": [
    "#Import necessary packages:\n",
    "import rasterio as rio \n",
    "import xarray as xr\n",
    "import rio_cogeo.cogeo\n",
    "import numpy as np\n",
    "from scipy.interpolate import griddata"
   ]
  },
  {
   "cell_type": "code",
   "execution_count": 2,
   "id": "2c16f1b2-11f3-4777-abda-498ee7b3b0ca",
   "metadata": {},
   "outputs": [],
   "source": [
    "#Inspect source NetCDF files:\n",
    "file = 'raw-data/CYGNSS/CYGNSS_test_data.nc'"
   ]
  },
  {
   "cell_type": "code",
   "execution_count": 3,
   "id": "fb6a0306-405b-4b00-99c5-52b1a99166a9",
   "metadata": {},
   "outputs": [],
   "source": [
    "xds = xr.open_dataset(file)"
   ]
  },
  {
   "cell_type": "code",
   "execution_count": 5,
   "id": "ff7adeb6-683d-422c-a5d2-1adfc4f4faf7",
   "metadata": {},
   "outputs": [],
   "source": [
    "# Extract lat, lon, and wind_speed\n",
    "lat = xds['lat'].data\n",
    "lon = xds['lon'].data\n",
    "wind_speed = xds['wind_speed'].data\n",
    "\n",
    "# Create a grid to interpolate onto (choose appropriate grid resolution)\n",
    "grid_lon, grid_lat = np.meshgrid(\n",
    "    np.linspace(lon.min(), lon.max(), 500),\n",
    "    np.linspace(lat.min(), lat.max(), 500)\n",
    ")\n",
    "\n",
    "# Interpolate the wind_speed data to the regular grid\n",
    "grid_wind_speed = griddata(\n",
    "    (lon, lat), wind_speed, (grid_lon, grid_lat), method='linear'\n",
    ")\n",
    "\n",
    "# Create a new xarray DataArray with the gridded data\n",
    "wind_speed_grid = xr.DataArray(\n",
    "    grid_wind_speed, \n",
    "    coords=[grid_lat[:, 0], grid_lon[0, :]], \n",
    "    dims=['lat', 'lon']\n",
    ")\n",
    "\n",
    "# Ensure the dataset has the proper spatial dimensions and CRS\n",
    "wind_speed_grid.rio.set_spatial_dims(\"lon\", \"lat\", inplace=True)\n",
    "wind_speed_grid.rio.write_crs(\"epsg:4326\", inplace=True)\n",
    "\n",
    "# Write the gridded data to a COG file\n",
    "cog_filename = \"test_cog_wind_speed.tif\"\n",
    "wind_speed_grid.rio.to_raster(\n",
    "    cog_filename,\n",
    "    driver=\"COG\",\n",
    ")"
   ]
  },
  {
   "cell_type": "code",
   "execution_count": 7,
   "id": "c41e3e1f-560d-4886-af68-2231d0a4b7a3",
   "metadata": {},
   "outputs": [
    {
     "name": "stdout",
     "output_type": "stream",
     "text": [
      "COG validation: (True, [], [])\n"
     ]
    }
   ],
   "source": [
    "# Validate the COG file\n",
    "cog_valid = rio_cogeo.cogeo.cog_validate(cog_filename)\n",
    "print(f\"COG validation: {cog_valid}\")"
   ]
  }
 ],
 "metadata": {
  "kernelspec": {
   "display_name": "Python 3 (ipykernel)",
   "language": "python",
   "name": "python3"
  },
  "language_info": {
   "codemirror_mode": {
    "name": "ipython",
    "version": 3
   },
   "file_extension": ".py",
   "mimetype": "text/x-python",
   "name": "python",
   "nbconvert_exporter": "python",
   "pygments_lexer": "ipython3",
   "version": "3.12.5"
  }
 },
 "nbformat": 4,
 "nbformat_minor": 5
}
