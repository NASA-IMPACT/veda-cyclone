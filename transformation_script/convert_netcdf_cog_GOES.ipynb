{
 "cells": [
  {
   "cell_type": "code",
   "execution_count": 20,
   "id": "b6b56909-fac1-4ec7-85a6-cb2a43664bd8",
   "metadata": {},
   "outputs": [],
   "source": [
    "import rioxarray\n",
    "import xarray as xr\n",
    "import numpy as np\n",
    "import rasterio\n",
    "import rio_cogeo.cogeo\n",
    "import matplotlib.pyplot as plt\n",
    "import s3fs \n",
    "from pyproj import CRS"
   ]
  },
  {
   "cell_type": "code",
   "execution_count": null,
   "id": "d5c1fb42",
   "metadata": {},
   "outputs": [],
   "source": [
    "def goes_to_wgs(ds, variable_name):\n",
    "\n",
    "    # convert coordinates to meters https://gis.stackexchange.com/a/350006\n",
    "    sat_height = ds[\"goes_imager_projection\"].attrs[\"perspective_point_height\"]\n",
    "    ds = ds.assign_coords({\n",
    "        \"x\": ds[\"x\"].values * sat_height,\n",
    "        \"y\": ds[\"y\"].values * sat_height,\n",
    "    })\n",
    "    \n",
    "    crs = CRS.from_cf(ds[\"goes_imager_projection\"].attrs)\n",
    "    ds.rio.write_crs(crs.to_string(), inplace=True)\n",
    "    \n",
    "    da = ds[variable_name]\n",
    "\n",
    "    return da.rio.reproject(\"epsg:4326\")"
   ]
  },
  {
   "cell_type": "code",
   "execution_count": null,
   "id": "35e6670c",
   "metadata": {},
   "outputs": [],
   "source": [
    "#From AWS\n",
    "fs = s3fs.S3FileSystem(anon=True)\n",
    "\n",
    "path = \"s3://noaa-goes16/ABI-L1b-RadF/2017/129/11/OR_ABI-L1b-RadF-M3C03_G16_s20171291115392_e20171291126159_c20171291126196.nc\"\n",
    "\n",
    "with fs.open(path) as fileObj:\n",
    "    with xr.open_dataset(fileObj, engine='h5netcdf') as ds:\n",
    "\n",
    "        da = goes_to_wgs(ds, variable_name=\"Rad\")\n",
    "    \n",
    "        COG_PROFILE = {\"driver\": \"COG\", \"compress\": \"DEFLATE\", \"predictor\": 2}\n",
    "        da.rio.to_raster(\"goes16.tif\", **COG_PROFILE)"
   ]
  },
  {
   "cell_type": "code",
   "execution_count": null,
   "id": "8ebc25cb",
   "metadata": {},
   "outputs": [],
   "source": [
    "#From downloaded file\n",
    "path = \"/Users/sidchaudhary/Downloads/OR_ABI-L1b-RadF-M6C01_G16_s20240010010205_e20240010019513_c20240010019563.nc\"\n",
    "\n",
    "with xr.open_dataset(path, engine='h5netcdf') as ds:\n",
    "\n",
    "    da = goes_to_wgs(ds, variable_name=\"Rad\")\n",
    "\n",
    "    COG_PROFILE = {\"driver\": \"COG\", \"compress\": \"DEFLATE\", \"predictor\": 2}\n",
    "    da.rio.to_raster(\"goes16.tif\", **COG_PROFILE)\n"
   ]
  },
  {
   "cell_type": "code",
   "execution_count": null,
   "id": "6133a98e",
   "metadata": {},
   "outputs": [],
   "source": [
    "# Path to the Cloud Optimized GeoTIFF (COG)\n",
    "cog_filename = \"goes16.tif\"\n",
    "\n",
    "# Open the COG file using rasterio\n",
    "with rasterio.open(cog_filename) as src:\n",
    "    # Read the data from the COG\n",
    "    data = src.read(1)  # Reading the first band (radiance data)\n",
    "    \n",
    "    # Get the bounds (left, bottom, right, top) of the dataset in geographic coordinates\n",
    "    bounds = src.bounds\n",
    "    extent = [bounds.left, bounds.right, bounds.bottom, bounds.top]\n",
    "    \n",
    "    # Set up a figure\n",
    "    plt.figure(figsize=(10, 6))\n",
    "    \n",
    "    # Plot the data using imshow and set the extent to geographic bounds\n",
    "    plt.imshow(data, cmap='turbo', extent=extent, origin='upper')\n",
    "    \n",
    "    # Add labels and title\n",
    "    plt.xlabel('Longitude')\n",
    "    plt.ylabel('Latitude')\n",
    "    plt.title('GOES-16 Radiance in Geographic Coordinates')\n",
    "\n",
    "    # Add a colorbar\n",
    "    plt.colorbar(label=\"Radiance\")\n",
    "\n",
    "    # Display the plot\n",
    "    plt.show()"
   ]
  }
 ],
 "metadata": {
  "kernelspec": {
   "display_name": "Python 3 (ipykernel)",
   "language": "python",
   "name": "python3"
  },
  "language_info": {
   "codemirror_mode": {
    "name": "ipython",
    "version": 3
   },
   "file_extension": ".py",
   "mimetype": "text/x-python",
   "name": "python",
   "nbconvert_exporter": "python",
   "pygments_lexer": "ipython3",
   "version": "3.12.7"
  }
 },
 "nbformat": 4,
 "nbformat_minor": 5
}
